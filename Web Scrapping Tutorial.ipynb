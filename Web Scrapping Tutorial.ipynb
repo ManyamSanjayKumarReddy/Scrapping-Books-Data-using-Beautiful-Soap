{
 "cells": [
  {
   "cell_type": "code",
   "execution_count": null,
   "id": "7c880f8e",
   "metadata": {},
   "outputs": [],
   "source": [
    "import requests\n",
    "import csv\n",
    "from bs4 import BeautifulSoup\n",
    "\n",
    "url = \"https://books.toscrape.com/\"\n",
    "page = requests.get(url)\n",
    "soup = BeautifulSoup(page.content, 'html.parser')\n",
    "\n",
    "# Find all book articles on the page\n",
    "books = soup.find_all('article')\n",
    "\n",
    "# Create a CSV file and write the headers\n",
    "with open('books.csv', mode='w', newline='', encoding='utf-8') as csv_file:\n",
    "    fieldnames = ['Title', 'Price', 'Link']\n",
    "    writer = csv.DictWriter(csv_file, fieldnames=fieldnames)\n",
    "    writer.writeheader()\n",
    "    \n",
    "    # Iterate through each book and write the data to the CSV file\n",
    "    for book in books:\n",
    "        title = book.h3.a[\"title\"]\n",
    "        price = book.select(\".price_color\")[0].get_text()\n",
    "        link = book.h3.a[\"href\"]\n",
    "        writer.writerow({'Title': title, 'Price': price, 'Link': \"https://books.toscrape.com/\" + link})\n"
   ]
  },
  {
   "cell_type": "code",
   "execution_count": null,
   "id": "6d379cca",
   "metadata": {},
   "outputs": [],
   "source": [
    "import requests\n",
    "import csv\n",
    "from bs4 import BeautifulSoup\n",
    "import pandas as pd\n",
    "\n",
    "url = \"https://books.toscrape.com/\"\n",
    "page = requests.get(url)\n",
    "soup = BeautifulSoup(page.content, 'html.parser')\n",
    "\n",
    "# Find all book articles on the page\n",
    "books = soup.find_all('article')    \n",
    "\n",
    "# Using Pandas library\n",
    "data = {\"Title\": [], \"Price\": [], \"Link\": []}\n",
    "\n",
    "for book in books:\n",
    "    title = book.h3.a[\"title\"]\n",
    "    price = book.select(\".price_color\")[0].get_text()\n",
    "    link = book.h3.a[\"href\"]\n",
    "    \n",
    "    data[\"Title\"].append(title)\n",
    "    data[\"Price\"].append(price)\n",
    "    data[\"Link\"].append(link)\n",
    "    \n",
    "df = pd.DataFrame(data)\n",
    "df.to_csv('books1.csv', index=False, encoding='utf-8')\n",
    "\n",
    "       "
   ]
  }
 ],
 "metadata": {
  "kernelspec": {
   "display_name": "Python 3 (ipykernel)",
   "language": "python",
   "name": "python3"
  },
  "language_info": {
   "codemirror_mode": {
    "name": "ipython",
    "version": 3
   },
   "file_extension": ".py",
   "mimetype": "text/x-python",
   "name": "python",
   "nbconvert_exporter": "python",
   "pygments_lexer": "ipython3",
   "version": "3.9.12"
  }
 },
 "nbformat": 4,
 "nbformat_minor": 5
}
